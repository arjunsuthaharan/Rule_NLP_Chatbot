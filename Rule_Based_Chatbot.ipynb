{
  "nbformat": 4,
  "nbformat_minor": 0,
  "metadata": {
    "colab": {
      "provenance": []
    },
    "kernelspec": {
      "name": "python3",
      "display_name": "Python 3"
    },
    "language_info": {
      "name": "python"
    }
  },
  "cells": [
    {
      "cell_type": "code",
      "execution_count": 1,
      "metadata": {
        "id": "nXpytLyUlULk"
      },
      "outputs": [],
      "source": [
        "import re\n",
        "import random"
      ]
    },
    {
      "cell_type": "code",
      "source": [
        "class RuleChatBot:\n",
        "\n",
        "  # Potential negative responses\n",
        "\n",
        "  negResponses = (\"no\", \"nope\", \"nah\", \"not likely\", \"no, sorry\")\n",
        "\n",
        "  # Exit conversation keywords\n",
        "\n",
        "  exitCommands = (\"quit\",\"pause\",\"exit\",\"goodbye\",\"bye\",\"later\")\n",
        "\n",
        "  # Random starting questions\n",
        "\n",
        "  randomStartingQuestions = (\n",
        "      \"What is your favourite NFL team?\",\n",
        "      \"Who is your favourite NFL player?\",\n",
        "      \"Who do you think will win the Superbowl this season?\"\n",
        "  )\n",
        "\n",
        "\n",
        "  # Functions for controlling conversation flow\n",
        "\n",
        "  def __init__(self):\n",
        "\n",
        "    self.chatConvo = {'describe_NFL_teams' : r'.*\\s*your NLF team.*',\n",
        "                      'describe_why_intent' : r'why\\sare.*',\n",
        "                      'about_NFL':  r'.*\\s*NFL'}\n",
        "\n",
        "  def greet(self):\n",
        "    self.name = input(\"What is your name?\\n\")\n",
        "    willHelp = input(f\"Hi {self.name}, I am a Chatbot, do you want to learn about NFL teams?\\n\")\n",
        "\n",
        "    if willHelp in self.negResponses:\n",
        "      print(\"No problem, enjoy your day!\")\n",
        "      return\n",
        "\n",
        "    self.chat()\n",
        "\n",
        "  def makeExit(self, reply):\n",
        "    for command in self.exitCommands:\n",
        "      if reply == command:\n",
        "        print(\"No problem, enjoy your day!\")\n",
        "        return True\n",
        "\n",
        "\n",
        "  def chat(self):\n",
        "    reply = input(random.choice(self.randomStartingQuestions)).lower()\n",
        "    while not self.makeExit(reply):\n",
        "      reply = input(self.matchReply(reply))\n",
        "\n",
        "\n",
        "  def matchReply(self, reply):\n",
        "    for key, value in self.chatConvo.items():\n",
        "      intent = key\n",
        "      regexPattern = value\n",
        "      foundMatch = re.match(regexPattern, reply)\n",
        "\n",
        "      if foundMatch and intent == 'describe_NFL_teams':\n",
        "        return self.describe_NFL_teams()\n",
        "      elif foundMatch and intent == 'describe_why_intent':\n",
        "        return self.describe_why_intent()\n",
        "      elif foundMatch and intent == 'about_NFL':\n",
        "        return self.about_NFL()\n",
        "\n",
        "    if not foundMatch:\n",
        "      return self.no_match_intent()\n",
        "\n",
        "  def describe_NFL_teams(self):\n",
        "    responses = (\"There are 32 teams in the NFL.\\n\",\n",
        "                 \"32 teams make up the NFL, divided into 2 conferences with 4 divisions each.\\n\")\n",
        "\n",
        "    return random.choice(responses)\n",
        "\n",
        "  def describe_why_intent(self):\n",
        "    responses = (\"I am here to inform you about the NFL\\n\",\n",
        "                 \"I exist to provide information about the National Football League\\n\")\n",
        "\n",
        "    return random.choice(responses)\n",
        "\n",
        "  def about_NFL(self):\n",
        "    responses = (\"The National Football League is an American sports league.\\n\",\n",
        "                 \"The NFL is an American sports league.\\n\")\n",
        "\n",
        "    return random.choice(responses)\n",
        "\n",
        "  def no_match_intent(self):\n",
        "    responses = (\n",
        "        \"Can you elaborate?\\n\",\n",
        "        \"Explain more, please\\n\"\n",
        "    )\n",
        "\n",
        "    return random.choice(responses)\n"
      ],
      "metadata": {
        "id": "Jtzl4q0elcLQ"
      },
      "execution_count": 3,
      "outputs": []
    },
    {
      "cell_type": "code",
      "source": [
        "# Creating chatbot object and beginning conversation using \"greet\" function\n",
        "\n",
        "NFLBot = RuleChatBot()\n",
        "NFLBot.greet()"
      ],
      "metadata": {
        "id": "bh87LJ4p647p"
      },
      "execution_count": null,
      "outputs": []
    }
  ]
}